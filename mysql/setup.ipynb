{
 "cells": [
  {
   "cell_type": "markdown",
   "metadata": {},
   "source": [
    "# guide\n",
    "https://hub.docker.com/r/mysql/mysql-server/"
   ]
  },
  {
   "cell_type": "code",
   "execution_count": 4,
   "metadata": {},
   "outputs": [
    {
     "name": "stdout",
     "output_type": "stream",
     "text": [
      "5.7: Pulling from mysql/mysql-server\n",
      "d70f3c0cccba: Pulling fs layer\n",
      "e7dc89aa39f7: Pulling fs layer\n",
      "76cc4215b650: Pulling fs layer\n",
      "25b0bb53e492: Pulling fs layer\n",
      "349b52643cc3: Pulling fs layer\n",
      "62ddcf4a4134: Pulling fs layer\n",
      "c91c597e717d: Pulling fs layer\n",
      "c7e93886e496: Pulling fs layer\n",
      "25b0bb53e492: Waiting\n",
      "349b52643cc3: Waiting\n",
      "62ddcf4a4134: Waiting\n",
      "c91c597e717d: Waiting\n",
      "c7e93886e496: Waiting\n",
      "e7dc89aa39f7: Verifying Checksum\n",
      "e7dc89aa39f7: Download complete\n",
      "25b0bb53e492: Verifying Checksum\n",
      "25b0bb53e492: Download complete\n",
      "349b52643cc3: Download complete\n",
      "62ddcf4a4134: Verifying Checksum\n",
      "62ddcf4a4134: Download complete\n",
      "c91c597e717d: Verifying Checksum\n",
      "c91c597e717d: Download complete\n",
      "c7e93886e496: Verifying Checksum\n",
      "c7e93886e496: Download complete\n",
      "d70f3c0cccba: Verifying Checksum\n",
      "d70f3c0cccba: Download complete\n",
      "76cc4215b650: Download complete\n",
      "d70f3c0cccba: Pull complete\n",
      "e7dc89aa39f7: Pull complete\n",
      "76cc4215b650: Pull complete\n",
      "25b0bb53e492: Pull complete\n",
      "349b52643cc3: Pull complete\n",
      "62ddcf4a4134: Pull complete\n",
      "c91c597e717d: Pull complete\n",
      "c7e93886e496: Pull complete\n",
      "Digest: sha256:1178cdd375f758968cd834ac4057bae41307e64b7c69a9e145896e7b11f48064\n",
      "Status: Downloaded newer image for mysql/mysql-server:5.7\n",
      "docker.io/mysql/mysql-server:5.7\n"
     ]
    },
    {
     "name": "stderr",
     "output_type": "stream",
     "text": [
      "\n",
      "What's Next?\n",
      "  View summary of image vulnerabilities and recommendations → docker scout quickview mysql/mysql-server:5.7\n"
     ]
    }
   ],
   "source": [
    "%%bash\n",
    "docker pull mysql/mysql-server:5.7"
   ]
  },
  {
   "cell_type": "code",
   "execution_count": 6,
   "metadata": {},
   "outputs": [
    {
     "name": "stdout",
     "output_type": "stream",
     "text": [
      "REPOSITORY           TAG       IMAGE ID       CREATED        SIZE\n",
      "hello-world          latest    9c7a54a9a43c   3 months ago   13.3kB\n",
      "mysql/mysql-server   5.7       a4ad24fe52cd   6 months ago   432MB\n"
     ]
    }
   ],
   "source": [
    "!docker images"
   ]
  },
  {
   "cell_type": "code",
   "execution_count": 7,
   "metadata": {},
   "outputs": [
    {
     "name": "stdout",
     "output_type": "stream",
     "text": [
      "00eb6ca66ea63b8f4d965a142b23b936b384a546f2ee329f9bfc3cf9469a8306\n",
      "\u001b[31mERRO\u001b[0m[0002] error waiting for container:                 \n"
     ]
    }
   ],
   "source": [
    "!docker run --name=mysql57 -d mysql/mysql-server:5.7"
   ]
  },
  {
   "cell_type": "code",
   "execution_count": 10,
   "metadata": {},
   "outputs": [
    {
     "name": "stdout",
     "output_type": "stream",
     "text": [
      "CONTAINER ID   IMAGE                    COMMAND                  CREATED          STATUS                    PORTS                 NAMES\n",
      "00eb6ca66ea6   mysql/mysql-server:5.7   \"/entrypoint.sh mysq…\"   11 minutes ago   Up 11 minutes (healthy)   3306/tcp, 33060/tcp   mysql57\n"
     ]
    }
   ],
   "source": [
    "!docker ps"
   ]
  },
  {
   "cell_type": "code",
   "execution_count": 11,
   "metadata": {},
   "outputs": [
    {
     "name": "stdout",
     "output_type": "stream",
     "text": [
      "[Entrypoint] MySQL Docker Image 5.7.41-1.2.11-server\n",
      "[Entrypoint] Initializing database\n",
      "[Entrypoint] No password option specified for new database.\n",
      "[Entrypoint]   A random onetime password will be generated.\n",
      "2023-08-12T03:48:04.566173Z 0 [Warning] TIMESTAMP with implicit DEFAULT value is deprecated. Please use --explicit_defaults_for_timestamp server option (see documentation for more details).\n",
      "2023-08-12T03:48:05.059478Z 0 [Warning] InnoDB: New log files created, LSN=45790\n",
      "2023-08-12T03:48:05.148266Z 0 [Warning] InnoDB: Creating foreign key constraint system tables.\n",
      "2023-08-12T03:48:05.225860Z 0 [Warning] No existing UUID has been found, so we assume that this is the first time that this server has been started. Generating a new UUID: 0b2bbd5f-38c3-11ee-b8cb-0242ac110002.\n",
      "2023-08-12T03:48:05.235552Z 0 [Warning] Gtid table is not ready to be used. Table 'mysql.gtid_executed' cannot be opened.\n",
      "2023-08-12T03:48:05.661757Z 0 [Warning] A deprecated TLS version TLSv1 is enabled. Please use TLSv1.2 or higher.\n",
      "2023-08-12T03:48:05.661796Z 0 [Warning] A deprecated TLS version TLSv1.1 is enabled. Please use TLSv1.2 or higher.\n",
      "2023-08-12T03:48:05.663580Z 0 [Warning] CA certificate ca.pem is self signed.\n",
      "2023-08-12T03:48:05.866994Z 1 [Warning] root@localhost is created with an empty password ! Please consider switching off the --initialize-insecure option.\n",
      "[Entrypoint] Database initialized\n",
      "2023-08-12T03:48:10.965279Z 0 [Warning] TIMESTAMP with implicit DEFAULT value is deprecated. Please use --explicit_defaults_for_timestamp server option (see documentation for more details).\n",
      "2023-08-12T03:48:10.967500Z 0 [Note] mysqld (mysqld 5.7.41) starting as process 51 ...\n",
      "2023-08-12T03:48:10.976351Z 0 [Note] InnoDB: PUNCH HOLE support available\n",
      "2023-08-12T03:48:10.976419Z 0 [Note] InnoDB: Mutexes and rw_locks use GCC atomic builtins\n",
      "2023-08-12T03:48:10.976431Z 0 [Note] InnoDB: Uses event mutexes\n",
      "2023-08-12T03:48:10.976435Z 0 [Note] InnoDB: GCC builtin __atomic_thread_fence() is used for memory barrier\n",
      "2023-08-12T03:48:10.976438Z 0 [Note] InnoDB: Compressed tables use zlib 1.2.12\n",
      "2023-08-12T03:48:10.976442Z 0 [Note] InnoDB: Using Linux native AIO\n",
      "2023-08-12T03:48:10.976748Z 0 [Note] InnoDB: Number of pools: 1\n",
      "2023-08-12T03:48:10.976913Z 0 [Note] InnoDB: Using CPU crc32 instructions\n",
      "2023-08-12T03:48:10.979716Z 0 [Note] InnoDB: Initializing buffer pool, total size = 128M, instances = 1, chunk size = 128M\n",
      "2023-08-12T03:48:10.992207Z 0 [Note] InnoDB: Completed initialization of buffer pool\n",
      "2023-08-12T03:48:10.997096Z 0 [Note] InnoDB: If the mysqld execution user is authorized, page cleaner thread priority can be changed. See the man page of setpriority().\n",
      "2023-08-12T03:48:11.009175Z 0 [Note] InnoDB: Highest supported file format is Barracuda.\n",
      "2023-08-12T03:48:11.027691Z 0 [Note] InnoDB: Creating shared tablespace for temporary tables\n",
      "2023-08-12T03:48:11.027827Z 0 [Note] InnoDB: Setting file './ibtmp1' size to 12 MB. Physically writing the file full; Please wait ...\n",
      "2023-08-12T03:48:11.073030Z 0 [Note] InnoDB: File './ibtmp1' size is now 12 MB.\n",
      "2023-08-12T03:48:11.075370Z 0 [Note] InnoDB: 96 redo rollback segment(s) found. 96 redo rollback segment(s) are active.\n",
      "2023-08-12T03:48:11.075441Z 0 [Note] InnoDB: 32 non-redo rollback segment(s) are active.\n",
      "2023-08-12T03:48:11.078380Z 0 [Note] InnoDB: 5.7.41 started; log sequence number 2762314\n",
      "2023-08-12T03:48:11.079525Z 0 [Note] InnoDB: Loading buffer pool(s) from /var/lib/mysql/ib_buffer_pool\n",
      "2023-08-12T03:48:11.079673Z 0 [Note] Plugin 'FEDERATED' is disabled.\n",
      "2023-08-12T03:48:11.081619Z 0 [Note] InnoDB: Buffer pool(s) load completed at 230812  3:48:11\n",
      "2023-08-12T03:48:11.091550Z 0 [Note] Found ca.pem, server-cert.pem and server-key.pem in data directory. Trying to enable SSL support using them.\n",
      "2023-08-12T03:48:11.091602Z 0 [Note] Skipping generation of SSL certificates as certificate files are present in data directory.\n",
      "2023-08-12T03:48:11.091611Z 0 [Warning] A deprecated TLS version TLSv1 is enabled. Please use TLSv1.2 or higher.\n",
      "2023-08-12T03:48:11.091613Z 0 [Warning] A deprecated TLS version TLSv1.1 is enabled. Please use TLSv1.2 or higher.\n",
      "2023-08-12T03:48:11.092374Z 0 [Warning] CA certificate ca.pem is self signed.\n",
      "2023-08-12T03:48:11.092462Z 0 [Note] Skipping generation of RSA key pair as key files are present in data directory.\n",
      "2023-08-12T03:48:11.110271Z 0 [Note] Event Scheduler: Loaded 0 events\n",
      "2023-08-12T03:48:11.111043Z 0 [Note] mysqld: ready for connections.\n",
      "Version: '5.7.41'  socket: '/var/lib/mysql/mysql.sock'  port: 0  MySQL Community Server (GPL)\n",
      "2023-08-12T03:48:11.168570Z 3 [Note] InnoDB: Stopping purge\n",
      "2023-08-12T03:48:11.186512Z 3 [Note] InnoDB: Resuming purge\n",
      "2023-08-12T03:48:11.192998Z 3 [Note] InnoDB: Stopping purge\n",
      "2023-08-12T03:48:11.204125Z 3 [Note] InnoDB: Resuming purge\n",
      "2023-08-12T03:48:11.213145Z 3 [Note] InnoDB: Stopping purge\n",
      "2023-08-12T03:48:11.225155Z 3 [Note] InnoDB: Resuming purge\n",
      "2023-08-12T03:48:11.230828Z 3 [Note] InnoDB: Stopping purge\n",
      "2023-08-12T03:48:11.242096Z 3 [Note] InnoDB: Resuming purge\n",
      "Warning: Unable to load '/usr/share/zoneinfo/iso3166.tab' as time zone. Skipping it.\n",
      "Warning: Unable to load '/usr/share/zoneinfo/leapseconds' as time zone. Skipping it.\n",
      "Warning: Unable to load '/usr/share/zoneinfo/tzdata.zi' as time zone. Skipping it.\n",
      "Warning: Unable to load '/usr/share/zoneinfo/zone.tab' as time zone. Skipping it.\n",
      "Warning: Unable to load '/usr/share/zoneinfo/zone1970.tab' as time zone. Skipping it.\n",
      "[Entrypoint] GENERATED ROOT PASSWORD: E4#?Rz=Fg4r*v;@Q6^t4214Sys3s#sCZ\n",
      "\n",
      "[Entrypoint] ignoring /docker-entrypoint-initdb.d/*\n",
      "\n",
      "2023-08-12T03:48:16.597553Z 0 [Note] Giving 0 client threads a chance to die gracefully\n",
      "2023-08-12T03:48:16.597631Z 0 [Note] Shutting down slave threads\n",
      "2023-08-12T03:48:16.597646Z 0 [Note] Forcefully disconnecting 0 remaining clients\n",
      "2023-08-12T03:48:16.597654Z 0 [Note] Event Scheduler: Purging the queue. 0 events\n",
      "2023-08-12T03:48:16.597748Z 0 [Note] Binlog end\n",
      "2023-08-12T03:48:16.598461Z 0 [Note] Shutting down plugin 'ngram'\n",
      "2023-08-12T03:48:16.598518Z 0 [Note] Shutting down plugin 'partition'\n",
      "2023-08-12T03:48:16.598527Z 0 [Note] Shutting down plugin 'BLACKHOLE'\n",
      "2023-08-12T03:48:16.598532Z 0 [Note] Shutting down plugin 'ARCHIVE'\n",
      "2023-08-12T03:48:16.598535Z 0 [Note] Shutting down plugin 'PERFORMANCE_SCHEMA'\n",
      "2023-08-12T03:48:16.598570Z 0 [Note] Shutting down plugin 'MRG_MYISAM'\n",
      "2023-08-12T03:48:16.598574Z 0 [Note] Shutting down plugin 'MyISAM'\n",
      "2023-08-12T03:48:16.598585Z 0 [Note] Shutting down plugin 'INNODB_SYS_VIRTUAL'\n",
      "2023-08-12T03:48:16.598590Z 0 [Note] Shutting down plugin 'INNODB_SYS_DATAFILES'\n",
      "2023-08-12T03:48:16.598593Z 0 [Note] Shutting down plugin 'INNODB_SYS_TABLESPACES'\n",
      "2023-08-12T03:48:16.598596Z 0 [Note] Shutting down plugin 'INNODB_SYS_FOREIGN_COLS'\n",
      "2023-08-12T03:48:16.598599Z 0 [Note] Shutting down plugin 'INNODB_SYS_FOREIGN'\n",
      "2023-08-12T03:48:16.598601Z 0 [Note] Shutting down plugin 'INNODB_SYS_FIELDS'\n",
      "2023-08-12T03:48:16.598604Z 0 [Note] Shutting down plugin 'INNODB_SYS_COLUMNS'\n",
      "2023-08-12T03:48:16.598607Z 0 [Note] Shutting down plugin 'INNODB_SYS_INDEXES'\n",
      "2023-08-12T03:48:16.598610Z 0 [Note] Shutting down plugin 'INNODB_SYS_TABLESTATS'\n",
      "2023-08-12T03:48:16.598613Z 0 [Note] Shutting down plugin 'INNODB_SYS_TABLES'\n",
      "2023-08-12T03:48:16.598616Z 0 [Note] Shutting down plugin 'INNODB_FT_INDEX_TABLE'\n",
      "2023-08-12T03:48:16.598618Z 0 [Note] Shutting down plugin 'INNODB_FT_INDEX_CACHE'\n",
      "2023-08-12T03:48:16.598621Z 0 [Note] Shutting down plugin 'INNODB_FT_CONFIG'\n",
      "2023-08-12T03:48:16.598625Z 0 [Note] Shutting down plugin 'INNODB_FT_BEING_DELETED'\n",
      "2023-08-12T03:48:16.598628Z 0 [Note] Shutting down plugin 'INNODB_FT_DELETED'\n",
      "2023-08-12T03:48:16.598631Z 0 [Note] Shutting down plugin 'INNODB_FT_DEFAULT_STOPWORD'\n",
      "2023-08-12T03:48:16.598634Z 0 [Note] Shutting down plugin 'INNODB_METRICS'\n",
      "2023-08-12T03:48:16.598638Z 0 [Note] Shutting down plugin 'INNODB_TEMP_TABLE_INFO'\n",
      "2023-08-12T03:48:16.598641Z 0 [Note] Shutting down plugin 'INNODB_BUFFER_POOL_STATS'\n",
      "2023-08-12T03:48:16.598644Z 0 [Note] Shutting down plugin 'INNODB_BUFFER_PAGE_LRU'\n",
      "2023-08-12T03:48:16.598648Z 0 [Note] Shutting down plugin 'INNODB_BUFFER_PAGE'\n",
      "2023-08-12T03:48:16.598651Z 0 [Note] Shutting down plugin 'INNODB_CMP_PER_INDEX_RESET'\n",
      "2023-08-12T03:48:16.598654Z 0 [Note] Shutting down plugin 'INNODB_CMP_PER_INDEX'\n",
      "2023-08-12T03:48:16.598658Z 0 [Note] Shutting down plugin 'INNODB_CMPMEM_RESET'\n",
      "2023-08-12T03:48:16.598661Z 0 [Note] Shutting down plugin 'INNODB_CMPMEM'\n",
      "2023-08-12T03:48:16.598664Z 0 [Note] Shutting down plugin 'INNODB_CMP_RESET'\n",
      "2023-08-12T03:48:16.598668Z 0 [Note] Shutting down plugin 'INNODB_CMP'\n",
      "2023-08-12T03:48:16.598671Z 0 [Note] Shutting down plugin 'INNODB_LOCK_WAITS'\n",
      "2023-08-12T03:48:16.598674Z 0 [Note] Shutting down plugin 'INNODB_LOCKS'\n",
      "2023-08-12T03:48:16.598677Z 0 [Note] Shutting down plugin 'INNODB_TRX'\n",
      "2023-08-12T03:48:16.598680Z 0 [Note] Shutting down plugin 'InnoDB'\n",
      "2023-08-12T03:48:16.598860Z 0 [Note] InnoDB: FTS optimize thread exiting.\n",
      "2023-08-12T03:48:16.599266Z 0 [Note] InnoDB: Starting shutdown...\n",
      "2023-08-12T03:48:16.699815Z 0 [Note] InnoDB: Dumping buffer pool(s) to /var/lib/mysql/ib_buffer_pool\n",
      "2023-08-12T03:48:16.700584Z 0 [Note] InnoDB: Buffer pool(s) dump completed at 230812  3:48:16\n",
      "2023-08-12T03:48:18.337801Z 0 [Note] InnoDB: Shutdown completed; log sequence number 12184554\n",
      "2023-08-12T03:48:18.340677Z 0 [Note] InnoDB: Removed temporary tablespace data file: \"ibtmp1\"\n",
      "2023-08-12T03:48:18.340749Z 0 [Note] Shutting down plugin 'MEMORY'\n",
      "2023-08-12T03:48:18.340760Z 0 [Note] Shutting down plugin 'CSV'\n",
      "2023-08-12T03:48:18.340768Z 0 [Note] Shutting down plugin 'sha256_password'\n",
      "2023-08-12T03:48:18.340771Z 0 [Note] Shutting down plugin 'mysql_native_password'\n",
      "2023-08-12T03:48:18.341043Z 0 [Note] Shutting down plugin 'binlog'\n",
      "2023-08-12T03:48:18.342032Z 0 [Note] mysqld: Shutdown complete\n",
      "\n",
      "[Entrypoint] Server shut down\n",
      "[Entrypoint] Setting root user as expired. Password will need to be changed before database can be used.\n",
      "\n",
      "[Entrypoint] MySQL init process done. Ready for start up.\n",
      "\n",
      "[Entrypoint] Starting MySQL 5.7.41-1.2.11-server\n",
      "2023-08-12T03:48:18.863917Z 0 [Warning] TIMESTAMP with implicit DEFAULT value is deprecated. Please use --explicit_defaults_for_timestamp server option (see documentation for more details).\n",
      "2023-08-12T03:48:18.867309Z 0 [Note] mysqld (mysqld 5.7.41) starting as process 1 ...\n",
      "2023-08-12T03:48:18.871902Z 0 [Note] InnoDB: PUNCH HOLE support available\n",
      "2023-08-12T03:48:18.871970Z 0 [Note] InnoDB: Mutexes and rw_locks use GCC atomic builtins\n",
      "2023-08-12T03:48:18.871978Z 0 [Note] InnoDB: Uses event mutexes\n",
      "2023-08-12T03:48:18.871982Z 0 [Note] InnoDB: GCC builtin __atomic_thread_fence() is used for memory barrier\n",
      "2023-08-12T03:48:18.871985Z 0 [Note] InnoDB: Compressed tables use zlib 1.2.12\n",
      "2023-08-12T03:48:18.871988Z 0 [Note] InnoDB: Using Linux native AIO\n",
      "2023-08-12T03:48:18.872332Z 0 [Note] InnoDB: Number of pools: 1\n",
      "2023-08-12T03:48:18.872493Z 0 [Note] InnoDB: Using CPU crc32 instructions\n",
      "2023-08-12T03:48:18.874425Z 0 [Note] InnoDB: Initializing buffer pool, total size = 128M, instances = 1, chunk size = 128M\n",
      "2023-08-12T03:48:18.896255Z 0 [Note] InnoDB: Completed initialization of buffer pool\n",
      "2023-08-12T03:48:18.901425Z 0 [Note] InnoDB: If the mysqld execution user is authorized, page cleaner thread priority can be changed. See the man page of setpriority().\n",
      "2023-08-12T03:48:18.916058Z 0 [Note] InnoDB: Highest supported file format is Barracuda.\n",
      "2023-08-12T03:48:18.931306Z 0 [Note] InnoDB: Creating shared tablespace for temporary tables\n",
      "2023-08-12T03:48:18.931584Z 0 [Note] InnoDB: Setting file './ibtmp1' size to 12 MB. Physically writing the file full; Please wait ...\n",
      "2023-08-12T03:48:18.957835Z 0 [Note] InnoDB: File './ibtmp1' size is now 12 MB.\n",
      "2023-08-12T03:48:18.959055Z 0 [Note] InnoDB: 96 redo rollback segment(s) found. 96 redo rollback segment(s) are active.\n",
      "2023-08-12T03:48:18.959112Z 0 [Note] InnoDB: 32 non-redo rollback segment(s) are active.\n",
      "2023-08-12T03:48:18.960056Z 0 [Note] InnoDB: 5.7.41 started; log sequence number 12184554\n",
      "2023-08-12T03:48:18.960324Z 0 [Note] InnoDB: Loading buffer pool(s) from /var/lib/mysql/ib_buffer_pool\n",
      "2023-08-12T03:48:18.960520Z 0 [Note] Plugin 'FEDERATED' is disabled.\n",
      "2023-08-12T03:48:18.967364Z 0 [Note] InnoDB: Buffer pool(s) load completed at 230812  3:48:18\n",
      "2023-08-12T03:48:18.972293Z 0 [Note] Found ca.pem, server-cert.pem and server-key.pem in data directory. Trying to enable SSL support using them.\n",
      "2023-08-12T03:48:18.972353Z 0 [Note] Skipping generation of SSL certificates as certificate files are present in data directory.\n",
      "2023-08-12T03:48:18.972364Z 0 [Warning] A deprecated TLS version TLSv1 is enabled. Please use TLSv1.2 or higher.\n",
      "2023-08-12T03:48:18.972368Z 0 [Warning] A deprecated TLS version TLSv1.1 is enabled. Please use TLSv1.2 or higher.\n",
      "2023-08-12T03:48:18.973925Z 0 [Warning] CA certificate ca.pem is self signed.\n",
      "2023-08-12T03:48:18.974039Z 0 [Note] Skipping generation of RSA key pair as key files are present in data directory.\n",
      "2023-08-12T03:48:18.975024Z 0 [Note] Server hostname (bind-address): '*'; port: 3306\n",
      "2023-08-12T03:48:18.975304Z 0 [Note] IPv6 is available.\n",
      "2023-08-12T03:48:18.975620Z 0 [Note]   - '::' resolves to '::';\n",
      "2023-08-12T03:48:18.975795Z 0 [Note] Server socket created on IP: '::'.\n",
      "2023-08-12T03:48:19.001372Z 0 [Note] Event Scheduler: Loaded 0 events\n",
      "2023-08-12T03:48:19.001884Z 0 [Note] Execution of init_file '/var/lib/mysql-files/y33EqrX7a7' started.\n",
      "2023-08-12T03:48:19.003125Z 0 [Note] Execution of init_file '/var/lib/mysql-files/y33EqrX7a7' ended.\n",
      "2023-08-12T03:48:19.003328Z 0 [Note] mysqld: ready for connections.\n",
      "Version: '5.7.41'  socket: '/var/lib/mysql/mysql.sock'  port: 3306  MySQL Community Server (GPL)\n"
     ]
    }
   ],
   "source": [
    "!docker logs mysql57"
   ]
  },
  {
   "cell_type": "code",
   "execution_count": 13,
   "metadata": {},
   "outputs": [
    {
     "name": "stdout",
     "output_type": "stream",
     "text": [
      "Enter password: \n",
      "ERROR 1045 (28000): Access denied for user 'root'@'localhost' (using password: YES)\n",
      "\u0007"
     ]
    }
   ],
   "source": [
    "!docker exec -it mysql57 mysql -uroot -p"
   ]
  },
  {
   "cell_type": "code",
   "execution_count": null,
   "metadata": {},
   "outputs": [],
   "source": [
    " !ALTER USER 'root'@'localhost' IDENTIFIED BY 'mysql57';"
   ]
  },
  {
   "cell_type": "code",
   "execution_count": null,
   "metadata": {},
   "outputs": [],
   "source": [
    " docker run --name=mysql57a -v /N:/N -d mysql/mysql-server:5.7"
   ]
  }
 ],
 "metadata": {
  "kernelspec": {
   "display_name": "py311",
   "language": "python",
   "name": "python3"
  },
  "language_info": {
   "codemirror_mode": {
    "name": "ipython",
    "version": 3
   },
   "file_extension": ".py",
   "mimetype": "text/x-python",
   "name": "python",
   "nbconvert_exporter": "python",
   "pygments_lexer": "ipython3",
   "version": "3.11.4"
  },
  "orig_nbformat": 4
 },
 "nbformat": 4,
 "nbformat_minor": 2
}
