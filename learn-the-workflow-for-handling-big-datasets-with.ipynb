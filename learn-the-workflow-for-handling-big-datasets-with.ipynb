{
 "cells": [
  {
   "cell_type": "code",
   "execution_count": 1,
   "id": "1dac08ea",
   "metadata": {
    "_cell_guid": "b1076dfc-b9ad-4769-8c92-a6c4dae69d19",
    "_uuid": "8f2839f25d086af736a60e9eeb907d3b93b6e0e5",
    "execution": {
     "iopub.execute_input": "2024-02-21T15:31:57.496079Z",
     "iopub.status.busy": "2024-02-21T15:31:57.494752Z",
     "iopub.status.idle": "2024-02-21T15:31:58.476227Z",
     "shell.execute_reply": "2024-02-21T15:31:58.475119Z"
    },
    "papermill": {
     "duration": 0.991693,
     "end_time": "2024-02-21T15:31:58.479067",
     "exception": false,
     "start_time": "2024-02-21T15:31:57.487374",
     "status": "completed"
    },
    "tags": []
   },
   "outputs": [],
   "source": [
    "# This Python 3 environment comes with many helpful analytics libraries installed\n",
    "# It is defined by the kaggle/python Docker image: https://github.com/kaggle/docker-python\n",
    "# For example, here's several helpful packages to load\n",
    "\n",
    "import numpy as np # linear algebra\n",
    "import pandas as pd # data processing, CSV file I/O (e.g. pd.read_csv)\n",
    "\n",
    "# Input data files are available in the read-only \"../input/\" directory\n",
    "# For example, running this (by clicking run or pressing Shift+Enter) will list all files under the input directory\n",
    "\n",
    "import os\n",
    "for dirname, _, filenames in os.walk('/kaggle/input'):\n",
    "    for filename in filenames:\n",
    "        print(os.path.join(dirname, filename))\n",
    "\n",
    "# You can write up to 20GB to the current directory (/kaggle/working/) that gets preserved as output when you create a version using \"Save & Run All\" \n",
    "# You can also write temporary files to /kaggle/temp/, but they won't be saved outside of the current session"
   ]
  },
  {
   "cell_type": "markdown",
   "id": "abe2fc20",
   "metadata": {
    "papermill": {
     "duration": 0.003147,
     "end_time": "2024-02-21T15:31:58.485990",
     "exception": false,
     "start_time": "2024-02-21T15:31:58.482843",
     "status": "completed"
    },
    "tags": []
   },
   "source": [
    "# build your SQL skills using BigQuery, a web service that lets you apply SQL to huge datasets."
   ]
  },
  {
   "cell_type": "code",
   "execution_count": 2,
   "id": "ba30f6dd",
   "metadata": {
    "execution": {
     "iopub.execute_input": "2024-02-21T15:31:58.494867Z",
     "iopub.status.busy": "2024-02-21T15:31:58.494295Z",
     "iopub.status.idle": "2024-02-21T15:32:03.064182Z",
     "shell.execute_reply": "2024-02-21T15:32:03.062959Z"
    },
    "papermill": {
     "duration": 4.578413,
     "end_time": "2024-02-21T15:32:03.067660",
     "exception": false,
     "start_time": "2024-02-21T15:31:58.489247",
     "status": "completed"
    },
    "tags": []
   },
   "outputs": [],
   "source": [
    "from google.cloud import bigquery"
   ]
  },
  {
   "cell_type": "code",
   "execution_count": 3,
   "id": "aba9ed8f",
   "metadata": {
    "execution": {
     "iopub.execute_input": "2024-02-21T15:32:03.078213Z",
     "iopub.status.busy": "2024-02-21T15:32:03.077439Z",
     "iopub.status.idle": "2024-02-21T15:32:03.084328Z",
     "shell.execute_reply": "2024-02-21T15:32:03.083255Z"
    },
    "papermill": {
     "duration": 0.017982,
     "end_time": "2024-02-21T15:32:03.090315",
     "exception": false,
     "start_time": "2024-02-21T15:32:03.072333",
     "status": "completed"
    },
    "tags": []
   },
   "outputs": [
    {
     "name": "stdout",
     "output_type": "stream",
     "text": [
      "Using Kaggle's public dataset BigQuery integration.\n"
     ]
    }
   ],
   "source": [
    "client = bigquery.Client()"
   ]
  },
  {
   "cell_type": "markdown",
   "id": "7ecf68c7",
   "metadata": {
    "papermill": {
     "duration": 0.004737,
     "end_time": "2024-02-21T15:32:03.100848",
     "exception": false,
     "start_time": "2024-02-21T15:32:03.096111",
     "status": "completed"
    },
    "tags": []
   },
   "source": [
    "# Construct reference to dataset"
   ]
  },
  {
   "cell_type": "code",
   "execution_count": 4,
   "id": "525512f9",
   "metadata": {
    "execution": {
     "iopub.execute_input": "2024-02-21T15:32:03.113129Z",
     "iopub.status.busy": "2024-02-21T15:32:03.112516Z",
     "iopub.status.idle": "2024-02-21T15:32:03.672448Z",
     "shell.execute_reply": "2024-02-21T15:32:03.671291Z"
    },
    "papermill": {
     "duration": 0.569393,
     "end_time": "2024-02-21T15:32:03.675312",
     "exception": false,
     "start_time": "2024-02-21T15:32:03.105919",
     "status": "completed"
    },
    "tags": []
   },
   "outputs": [],
   "source": [
    "dataset_ref = client.dataset(\"hacker_news\", project=\"bigquery-public-data\")\n",
    "dataset = client.get_dataset(dataset_ref)"
   ]
  },
  {
   "cell_type": "code",
   "execution_count": 5,
   "id": "6846d03e",
   "metadata": {
    "execution": {
     "iopub.execute_input": "2024-02-21T15:32:03.685067Z",
     "iopub.status.busy": "2024-02-21T15:32:03.684668Z",
     "iopub.status.idle": "2024-02-21T15:32:04.149187Z",
     "shell.execute_reply": "2024-02-21T15:32:04.147777Z"
    },
    "papermill": {
     "duration": 0.47246,
     "end_time": "2024-02-21T15:32:04.152047",
     "exception": false,
     "start_time": "2024-02-21T15:32:03.679587",
     "status": "completed"
    },
    "tags": []
   },
   "outputs": [
    {
     "data": {
      "text/plain": [
       "['full']"
      ]
     },
     "execution_count": 5,
     "metadata": {},
     "output_type": "execute_result"
    }
   ],
   "source": [
    "tables = client.list_tables(dataset)\n",
    "[table.table_id for table in tables]\n",
    "# for n, table in enumerate(tables):\n",
    "#     print(\"%d. table id:\"%n, table.table_id)"
   ]
  },
  {
   "cell_type": "code",
   "execution_count": null,
   "id": "ef5b280c",
   "metadata": {
    "papermill": {
     "duration": 0.003404,
     "end_time": "2024-02-21T15:32:04.159146",
     "exception": false,
     "start_time": "2024-02-21T15:32:04.155742",
     "status": "completed"
    },
    "tags": []
   },
   "outputs": [],
   "source": []
  }
 ],
 "metadata": {
  "kaggle": {
   "accelerator": "none",
   "dataSources": [],
   "dockerImageVersionId": 30646,
   "isGpuEnabled": false,
   "isInternetEnabled": true,
   "language": "python",
   "sourceType": "notebook"
  },
  "kernelspec": {
   "display_name": "Python 3",
   "language": "python",
   "name": "python3"
  },
  "language_info": {
   "codemirror_mode": {
    "name": "ipython",
    "version": 3
   },
   "file_extension": ".py",
   "mimetype": "text/x-python",
   "name": "python",
   "nbconvert_exporter": "python",
   "pygments_lexer": "ipython3",
   "version": "3.10.13"
  },
  "papermill": {
   "default_parameters": {},
   "duration": 10.609709,
   "end_time": "2024-02-21T15:32:04.985683",
   "environment_variables": {},
   "exception": null,
   "input_path": "__notebook__.ipynb",
   "output_path": "__notebook__.ipynb",
   "parameters": {},
   "start_time": "2024-02-21T15:31:54.375974",
   "version": "2.5.0"
  }
 },
 "nbformat": 4,
 "nbformat_minor": 5
}
